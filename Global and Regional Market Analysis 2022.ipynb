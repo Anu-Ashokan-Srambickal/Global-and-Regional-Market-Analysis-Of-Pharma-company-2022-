{
 "cells": [
  {
   "cell_type": "code",
   "execution_count": 1,
   "id": "32a58a5d-ef58-49d9-b46f-adcabbba7603",
   "metadata": {},
   "outputs": [],
   "source": [
    "import numpy as np\n",
    "import pandas as pd\n",
    "import matplotlib.pyplot as plt\n",
    "import seaborn as sns"
   ]
  },
  {
   "cell_type": "markdown",
   "id": "85875cce-50af-4242-90a0-d37cf4d070ce",
   "metadata": {},
   "source": [
    "### DATASET SOURCE:"
   ]
  },
  {
   "cell_type": "markdown",
   "id": "2c85f2c9-df8c-4c17-abcd-8c12d24ca804",
   "metadata": {},
   "source": [
    "#### DATASET LINK : https://www.kaggle.com/datasets/atharvasoundankar/pharmacy-otc-sales-data-2022\n",
    "\n",
    "\n"
   ]
  },
  {
   "cell_type": "markdown",
   "id": "4d89acdc-8128-4f38-b258-5110990fbf0c",
   "metadata": {},
   "source": [
    "## Problem Definition: \n",
    "\n",
    "### Optimizing Sales and Revenue Performance\n",
    "\n",
    "### Problem Statement: \n",
    "The company lacks a clear, data-driven understanding of what factors are driving its sales and revenue performance in 2022. \n",
    "\n",
    "Without this insight, it is unable to effectively allocate resources, target key markets, and implement strategies to increase profitability."
   ]
  },
  {
   "cell_type": "markdown",
   "id": "4fcb6a9e-20bf-4949-84e5-613b875d51cb",
   "metadata": {},
   "source": [
    "### Background:\n",
    "\n",
    "The company has collected sales data for products, countries, and salespeople throughout 2022.\n",
    "\n",
    "However, this raw data has not been comprehensively analyzed to reveal actionable insights into market trends, performance drivers, and areas for improvement."
   ]
  },
  {
   "cell_type": "markdown",
   "id": "1e6524bb-42e2-4c8d-ac4a-537045452bd0",
   "metadata": {},
   "source": [
    "### Scope of Analysis:\n",
    "\n",
    " The analysis focuses on a dataset containing information on Product, Country, Sales Person, Total Revenue, Boxes Shipped, and monthly sales trends."
   ]
  },
  {
   "cell_type": "markdown",
   "id": "bf22fa86-a257-46ca-8341-bfab4dffa051",
   "metadata": {},
   "source": [
    "### Key Objectives of the Analysis:\n",
    "\n",
    "### Performance Identification: \n",
    "To identify the highest and lowest-performing products, salespeople, and countries by total revenue and sales volume.\n",
    "\n",
    "### Market Concentration:\n",
    "To understand how revenue is distributed across different countries and to pinpoint the most lucrative product-country combinations.\n",
    "\n",
    "### Seasonal Trends: \n",
    "To uncover any monthly or seasonal patterns in total revenue and specific product sales (e.g., Allergy Pills).\n",
    "\n",
    "### Relationship between Metrics: \n",
    "To determine the correlation between key metrics like Total Revenue, Boxes Shipped, and Amount ($).\n",
    "\n",
    "### Revenue Distribution:\n",
    "To analyze the distribution of revenue values to understand if sales are driven by a few large transactions or many small ones."
   ]
  },
  {
   "cell_type": "markdown",
   "id": "720b6555-56a3-4629-a96c-66da0739bbab",
   "metadata": {},
   "source": [
    "### Expected Outcome:\n",
    "\n",
    "A set of actionable insights that can be used by management, sales, and marketing teams to focus efforts on top-performing areas, address underperforming ones, and capitalize on seasonal trends to maximize revenue and efficiency."
   ]
  },
  {
   "cell_type": "code",
   "execution_count": 2,
   "id": "1ac433dd-9749-45f2-ae45-0fe6208e26ed",
   "metadata": {},
   "outputs": [
    {
     "data": {
      "text/html": [
       "<div>\n",
       "<style scoped>\n",
       "    .dataframe tbody tr th:only-of-type {\n",
       "        vertical-align: middle;\n",
       "    }\n",
       "\n",
       "    .dataframe tbody tr th {\n",
       "        vertical-align: top;\n",
       "    }\n",
       "\n",
       "    .dataframe thead th {\n",
       "        text-align: right;\n",
       "    }\n",
       "</style>\n",
       "<table border=\"1\" class=\"dataframe\">\n",
       "  <thead>\n",
       "    <tr style=\"text-align: right;\">\n",
       "      <th></th>\n",
       "      <th>Date</th>\n",
       "      <th>Product</th>\n",
       "      <th>Sales Person</th>\n",
       "      <th>Boxes Shipped</th>\n",
       "      <th>Amount ($)</th>\n",
       "      <th>Country</th>\n",
       "    </tr>\n",
       "  </thead>\n",
       "  <tbody>\n",
       "    <tr>\n",
       "      <th>0</th>\n",
       "      <td>2/6/2022</td>\n",
       "      <td>Pain Relief Tablets</td>\n",
       "      <td>Divya Mehra</td>\n",
       "      <td>7</td>\n",
       "      <td>67.43</td>\n",
       "      <td>Australia</td>\n",
       "    </tr>\n",
       "    <tr>\n",
       "      <th>1</th>\n",
       "      <td>2/5/2022</td>\n",
       "      <td>Antiseptic Cream</td>\n",
       "      <td>Nikhil Batra</td>\n",
       "      <td>18</td>\n",
       "      <td>421.46</td>\n",
       "      <td>Canada</td>\n",
       "    </tr>\n",
       "    <tr>\n",
       "      <th>2</th>\n",
       "      <td>2/19/2022</td>\n",
       "      <td>Cough Syrup</td>\n",
       "      <td>Ritika Shah</td>\n",
       "      <td>2</td>\n",
       "      <td>48.25</td>\n",
       "      <td>UK</td>\n",
       "    </tr>\n",
       "    <tr>\n",
       "      <th>3</th>\n",
       "      <td>3/28/2022</td>\n",
       "      <td>Pain Relief Tablets</td>\n",
       "      <td>Nikhil Batra</td>\n",
       "      <td>5</td>\n",
       "      <td>59.89</td>\n",
       "      <td>UK</td>\n",
       "    </tr>\n",
       "    <tr>\n",
       "      <th>4</th>\n",
       "      <td>1/17/2022</td>\n",
       "      <td>Digestive Enzyme</td>\n",
       "      <td>Ritika Shah</td>\n",
       "      <td>8</td>\n",
       "      <td>147.73</td>\n",
       "      <td>USA</td>\n",
       "    </tr>\n",
       "    <tr>\n",
       "      <th>...</th>\n",
       "      <td>...</td>\n",
       "      <td>...</td>\n",
       "      <td>...</td>\n",
       "      <td>...</td>\n",
       "      <td>...</td>\n",
       "      <td>...</td>\n",
       "    </tr>\n",
       "    <tr>\n",
       "      <th>328</th>\n",
       "      <td>2/8/2022</td>\n",
       "      <td>Digestive Enzyme</td>\n",
       "      <td>Sneha Iyer</td>\n",
       "      <td>15</td>\n",
       "      <td>302.46</td>\n",
       "      <td>UK</td>\n",
       "    </tr>\n",
       "    <tr>\n",
       "      <th>329</th>\n",
       "      <td>8/28/2022</td>\n",
       "      <td>Allergy Pills</td>\n",
       "      <td>Aman Verma</td>\n",
       "      <td>3</td>\n",
       "      <td>52.50</td>\n",
       "      <td>India</td>\n",
       "    </tr>\n",
       "    <tr>\n",
       "      <th>330</th>\n",
       "      <td>4/17/2022</td>\n",
       "      <td>Nasal Spray</td>\n",
       "      <td>Divya Mehra</td>\n",
       "      <td>5</td>\n",
       "      <td>65.67</td>\n",
       "      <td>UK</td>\n",
       "    </tr>\n",
       "    <tr>\n",
       "      <th>331</th>\n",
       "      <td>1/5/2022</td>\n",
       "      <td>Eye Drops</td>\n",
       "      <td>Aman Verma</td>\n",
       "      <td>17</td>\n",
       "      <td>247.43</td>\n",
       "      <td>USA</td>\n",
       "    </tr>\n",
       "    <tr>\n",
       "      <th>332</th>\n",
       "      <td>8/11/2022</td>\n",
       "      <td>Digestive Enzyme</td>\n",
       "      <td>Rajesh Patel</td>\n",
       "      <td>3</td>\n",
       "      <td>65.98</td>\n",
       "      <td>UK</td>\n",
       "    </tr>\n",
       "  </tbody>\n",
       "</table>\n",
       "<p>333 rows × 6 columns</p>\n",
       "</div>"
      ],
      "text/plain": [
       "          Date              Product  Sales Person  Boxes Shipped  Amount ($)  \\\n",
       "0     2/6/2022  Pain Relief Tablets   Divya Mehra              7       67.43   \n",
       "1     2/5/2022     Antiseptic Cream  Nikhil Batra             18      421.46   \n",
       "2    2/19/2022          Cough Syrup   Ritika Shah              2       48.25   \n",
       "3    3/28/2022  Pain Relief Tablets  Nikhil Batra              5       59.89   \n",
       "4    1/17/2022     Digestive Enzyme   Ritika Shah              8      147.73   \n",
       "..         ...                  ...           ...            ...         ...   \n",
       "328   2/8/2022     Digestive Enzyme    Sneha Iyer             15      302.46   \n",
       "329  8/28/2022        Allergy Pills    Aman Verma              3       52.50   \n",
       "330  4/17/2022          Nasal Spray   Divya Mehra              5       65.67   \n",
       "331   1/5/2022            Eye Drops    Aman Verma             17      247.43   \n",
       "332  8/11/2022     Digestive Enzyme  Rajesh Patel              3       65.98   \n",
       "\n",
       "       Country  \n",
       "0    Australia  \n",
       "1       Canada  \n",
       "2           UK  \n",
       "3           UK  \n",
       "4          USA  \n",
       "..         ...  \n",
       "328         UK  \n",
       "329      India  \n",
       "330         UK  \n",
       "331        USA  \n",
       "332         UK  \n",
       "\n",
       "[333 rows x 6 columns]"
      ]
     },
     "execution_count": 2,
     "metadata": {},
     "output_type": "execute_result"
    }
   ],
   "source": [
    "df = pd.read_csv(r\"C:\\Users\\Surface Pro\\Desktop\\ENTRI APP\\phython\\self_projects\\pharmacy_otc_sales_data.csv\")\n",
    "df"
   ]
  },
  {
   "cell_type": "markdown",
   "id": "35997776-2b0a-44f1-9b00-2c82142298c2",
   "metadata": {},
   "source": [
    "### DATASET OVERVIEW"
   ]
  },
  {
   "cell_type": "markdown",
   "id": "cf90e927-f583-48f2-9de5-639f77727ff3",
   "metadata": {},
   "source": [
    "#### BASIC INFO OF DATASET"
   ]
  },
  {
   "cell_type": "code",
   "execution_count": 4,
   "id": "ace0aad1-5463-4e1e-966d-490e282394c2",
   "metadata": {},
   "outputs": [
    {
     "name": "stdout",
     "output_type": "stream",
     "text": [
      "<class 'pandas.core.frame.DataFrame'>\n",
      "RangeIndex: 333 entries, 0 to 332\n",
      "Data columns (total 6 columns):\n",
      " #   Column         Non-Null Count  Dtype  \n",
      "---  ------         --------------  -----  \n",
      " 0   Date           333 non-null    object \n",
      " 1   Product        333 non-null    object \n",
      " 2   Sales Person   333 non-null    object \n",
      " 3   Boxes Shipped  333 non-null    int64  \n",
      " 4   Amount ($)     333 non-null    float64\n",
      " 5   Country        333 non-null    object \n",
      "dtypes: float64(1), int64(1), object(4)\n",
      "memory usage: 15.7+ KB\n"
     ]
    }
   ],
   "source": [
    "df.info()"
   ]
  },
  {
   "cell_type": "markdown",
   "id": "86194ca1-aa32-46c7-8564-57e25aac72e3",
   "metadata": {},
   "source": [
    "#### FINDING OUT NULL VALUES IN DATASET"
   ]
  },
  {
   "cell_type": "code",
   "execution_count": 6,
   "id": "8963d166-b700-4829-9879-717d9bcc230d",
   "metadata": {},
   "outputs": [
    {
     "data": {
      "text/plain": [
       "Date             0\n",
       "Product          0\n",
       "Sales Person     0\n",
       "Boxes Shipped    0\n",
       "Amount ($)       0\n",
       "Country          0\n",
       "dtype: int64"
      ]
     },
     "execution_count": 6,
     "metadata": {},
     "output_type": "execute_result"
    }
   ],
   "source": [
    "df.isnull().sum()"
   ]
  },
  {
   "cell_type": "markdown",
   "id": "f65b3bdd-8cb9-423d-8f3b-8fa84365a6ef",
   "metadata": {},
   "source": [
    "#### FINDING OUT DUPLICATE DATA"
   ]
  },
  {
   "cell_type": "code",
   "execution_count": 9,
   "id": "64795750-b50a-4b43-bb41-16408892ae1c",
   "metadata": {},
   "outputs": [
    {
     "data": {
      "text/plain": [
       "0"
      ]
     },
     "execution_count": 9,
     "metadata": {},
     "output_type": "execute_result"
    }
   ],
   "source": [
    "df.duplicated().sum()"
   ]
  },
  {
   "cell_type": "markdown",
   "id": "d9aa5a10-cac0-4a53-b519-ca5eb9a55c4b",
   "metadata": {},
   "source": [
    "#### FINDING OUT TOTAL ROWS AND COLUMNS"
   ]
  },
  {
   "cell_type": "code",
   "execution_count": 10,
   "id": "62df7d28-18c4-4869-bc0f-3e34f4a9be54",
   "metadata": {},
   "outputs": [
    {
     "data": {
      "text/plain": [
       "(333, 6)"
      ]
     },
     "execution_count": 10,
     "metadata": {},
     "output_type": "execute_result"
    }
   ],
   "source": [
    "df.shape"
   ]
  },
  {
   "cell_type": "markdown",
   "id": "c082908d-5dd3-4679-ae15-afb3b723c3aa",
   "metadata": {},
   "source": [
    "#### LOADING FIRST 5 ROWS IN DATASET"
   ]
  },
  {
   "cell_type": "code",
   "execution_count": 11,
   "id": "fa864149-62be-4b28-b632-5b2601fd83d3",
   "metadata": {},
   "outputs": [
    {
     "data": {
      "text/html": [
       "<div>\n",
       "<style scoped>\n",
       "    .dataframe tbody tr th:only-of-type {\n",
       "        vertical-align: middle;\n",
       "    }\n",
       "\n",
       "    .dataframe tbody tr th {\n",
       "        vertical-align: top;\n",
       "    }\n",
       "\n",
       "    .dataframe thead th {\n",
       "        text-align: right;\n",
       "    }\n",
       "</style>\n",
       "<table border=\"1\" class=\"dataframe\">\n",
       "  <thead>\n",
       "    <tr style=\"text-align: right;\">\n",
       "      <th></th>\n",
       "      <th>Date</th>\n",
       "      <th>Product</th>\n",
       "      <th>Sales Person</th>\n",
       "      <th>Boxes Shipped</th>\n",
       "      <th>Amount ($)</th>\n",
       "      <th>Country</th>\n",
       "    </tr>\n",
       "  </thead>\n",
       "  <tbody>\n",
       "    <tr>\n",
       "      <th>0</th>\n",
       "      <td>2/6/2022</td>\n",
       "      <td>Pain Relief Tablets</td>\n",
       "      <td>Divya Mehra</td>\n",
       "      <td>7</td>\n",
       "      <td>67.43</td>\n",
       "      <td>Australia</td>\n",
       "    </tr>\n",
       "    <tr>\n",
       "      <th>1</th>\n",
       "      <td>2/5/2022</td>\n",
       "      <td>Antiseptic Cream</td>\n",
       "      <td>Nikhil Batra</td>\n",
       "      <td>18</td>\n",
       "      <td>421.46</td>\n",
       "      <td>Canada</td>\n",
       "    </tr>\n",
       "    <tr>\n",
       "      <th>2</th>\n",
       "      <td>2/19/2022</td>\n",
       "      <td>Cough Syrup</td>\n",
       "      <td>Ritika Shah</td>\n",
       "      <td>2</td>\n",
       "      <td>48.25</td>\n",
       "      <td>UK</td>\n",
       "    </tr>\n",
       "    <tr>\n",
       "      <th>3</th>\n",
       "      <td>3/28/2022</td>\n",
       "      <td>Pain Relief Tablets</td>\n",
       "      <td>Nikhil Batra</td>\n",
       "      <td>5</td>\n",
       "      <td>59.89</td>\n",
       "      <td>UK</td>\n",
       "    </tr>\n",
       "    <tr>\n",
       "      <th>4</th>\n",
       "      <td>1/17/2022</td>\n",
       "      <td>Digestive Enzyme</td>\n",
       "      <td>Ritika Shah</td>\n",
       "      <td>8</td>\n",
       "      <td>147.73</td>\n",
       "      <td>USA</td>\n",
       "    </tr>\n",
       "  </tbody>\n",
       "</table>\n",
       "</div>"
      ],
      "text/plain": [
       "        Date              Product  Sales Person  Boxes Shipped  Amount ($)  \\\n",
       "0   2/6/2022  Pain Relief Tablets   Divya Mehra              7       67.43   \n",
       "1   2/5/2022     Antiseptic Cream  Nikhil Batra             18      421.46   \n",
       "2  2/19/2022          Cough Syrup   Ritika Shah              2       48.25   \n",
       "3  3/28/2022  Pain Relief Tablets  Nikhil Batra              5       59.89   \n",
       "4  1/17/2022     Digestive Enzyme   Ritika Shah              8      147.73   \n",
       "\n",
       "     Country  \n",
       "0  Australia  \n",
       "1     Canada  \n",
       "2         UK  \n",
       "3         UK  \n",
       "4        USA  "
      ]
     },
     "execution_count": 11,
     "metadata": {},
     "output_type": "execute_result"
    }
   ],
   "source": [
    "df.head()"
   ]
  },
  {
   "cell_type": "markdown",
   "id": "9bc96b2b-f775-4c54-8c67-9e710ec4ad1f",
   "metadata": {},
   "source": [
    "#### LOADING LAST 5 COLUMNS OF DATASET"
   ]
  },
  {
   "cell_type": "code",
   "execution_count": 13,
   "id": "b9a02393-a584-4a99-856f-4f3558e9888e",
   "metadata": {},
   "outputs": [
    {
     "data": {
      "text/html": [
       "<div>\n",
       "<style scoped>\n",
       "    .dataframe tbody tr th:only-of-type {\n",
       "        vertical-align: middle;\n",
       "    }\n",
       "\n",
       "    .dataframe tbody tr th {\n",
       "        vertical-align: top;\n",
       "    }\n",
       "\n",
       "    .dataframe thead th {\n",
       "        text-align: right;\n",
       "    }\n",
       "</style>\n",
       "<table border=\"1\" class=\"dataframe\">\n",
       "  <thead>\n",
       "    <tr style=\"text-align: right;\">\n",
       "      <th></th>\n",
       "      <th>Date</th>\n",
       "      <th>Product</th>\n",
       "      <th>Sales Person</th>\n",
       "      <th>Boxes Shipped</th>\n",
       "      <th>Amount ($)</th>\n",
       "      <th>Country</th>\n",
       "    </tr>\n",
       "  </thead>\n",
       "  <tbody>\n",
       "    <tr>\n",
       "      <th>328</th>\n",
       "      <td>2/8/2022</td>\n",
       "      <td>Digestive Enzyme</td>\n",
       "      <td>Sneha Iyer</td>\n",
       "      <td>15</td>\n",
       "      <td>302.46</td>\n",
       "      <td>UK</td>\n",
       "    </tr>\n",
       "    <tr>\n",
       "      <th>329</th>\n",
       "      <td>8/28/2022</td>\n",
       "      <td>Allergy Pills</td>\n",
       "      <td>Aman Verma</td>\n",
       "      <td>3</td>\n",
       "      <td>52.50</td>\n",
       "      <td>India</td>\n",
       "    </tr>\n",
       "    <tr>\n",
       "      <th>330</th>\n",
       "      <td>4/17/2022</td>\n",
       "      <td>Nasal Spray</td>\n",
       "      <td>Divya Mehra</td>\n",
       "      <td>5</td>\n",
       "      <td>65.67</td>\n",
       "      <td>UK</td>\n",
       "    </tr>\n",
       "    <tr>\n",
       "      <th>331</th>\n",
       "      <td>1/5/2022</td>\n",
       "      <td>Eye Drops</td>\n",
       "      <td>Aman Verma</td>\n",
       "      <td>17</td>\n",
       "      <td>247.43</td>\n",
       "      <td>USA</td>\n",
       "    </tr>\n",
       "    <tr>\n",
       "      <th>332</th>\n",
       "      <td>8/11/2022</td>\n",
       "      <td>Digestive Enzyme</td>\n",
       "      <td>Rajesh Patel</td>\n",
       "      <td>3</td>\n",
       "      <td>65.98</td>\n",
       "      <td>UK</td>\n",
       "    </tr>\n",
       "  </tbody>\n",
       "</table>\n",
       "</div>"
      ],
      "text/plain": [
       "          Date           Product  Sales Person  Boxes Shipped  Amount ($)  \\\n",
       "328   2/8/2022  Digestive Enzyme    Sneha Iyer             15      302.46   \n",
       "329  8/28/2022     Allergy Pills    Aman Verma              3       52.50   \n",
       "330  4/17/2022       Nasal Spray   Divya Mehra              5       65.67   \n",
       "331   1/5/2022         Eye Drops    Aman Verma             17      247.43   \n",
       "332  8/11/2022  Digestive Enzyme  Rajesh Patel              3       65.98   \n",
       "\n",
       "    Country  \n",
       "328      UK  \n",
       "329   India  \n",
       "330      UK  \n",
       "331     USA  \n",
       "332      UK  "
      ]
     },
     "execution_count": 13,
     "metadata": {},
     "output_type": "execute_result"
    }
   ],
   "source": [
    "df.tail()"
   ]
  },
  {
   "cell_type": "markdown",
   "id": "e11a2822-3e4a-473e-b0d8-edc043a4b107",
   "metadata": {},
   "source": [
    "#### STATISTICAL ANALYSIS OF NUMERICAL DATA"
   ]
  },
  {
   "cell_type": "code",
   "execution_count": 14,
   "id": "faf7a69f-b98b-4100-8317-f0570b9f45da",
   "metadata": {},
   "outputs": [
    {
     "data": {
      "text/html": [
       "<div>\n",
       "<style scoped>\n",
       "    .dataframe tbody tr th:only-of-type {\n",
       "        vertical-align: middle;\n",
       "    }\n",
       "\n",
       "    .dataframe tbody tr th {\n",
       "        vertical-align: top;\n",
       "    }\n",
       "\n",
       "    .dataframe thead th {\n",
       "        text-align: right;\n",
       "    }\n",
       "</style>\n",
       "<table border=\"1\" class=\"dataframe\">\n",
       "  <thead>\n",
       "    <tr style=\"text-align: right;\">\n",
       "      <th></th>\n",
       "      <th>Boxes Shipped</th>\n",
       "      <th>Amount ($)</th>\n",
       "    </tr>\n",
       "  </thead>\n",
       "  <tbody>\n",
       "    <tr>\n",
       "      <th>count</th>\n",
       "      <td>333.000000</td>\n",
       "      <td>333.000000</td>\n",
       "    </tr>\n",
       "    <tr>\n",
       "      <th>mean</th>\n",
       "      <td>10.474474</td>\n",
       "      <td>176.964835</td>\n",
       "    </tr>\n",
       "    <tr>\n",
       "      <th>std</th>\n",
       "      <td>5.955415</td>\n",
       "      <td>119.058556</td>\n",
       "    </tr>\n",
       "    <tr>\n",
       "      <th>min</th>\n",
       "      <td>1.000000</td>\n",
       "      <td>8.090000</td>\n",
       "    </tr>\n",
       "    <tr>\n",
       "      <th>25%</th>\n",
       "      <td>5.000000</td>\n",
       "      <td>75.990000</td>\n",
       "    </tr>\n",
       "    <tr>\n",
       "      <th>50%</th>\n",
       "      <td>11.000000</td>\n",
       "      <td>156.920000</td>\n",
       "    </tr>\n",
       "    <tr>\n",
       "      <th>75%</th>\n",
       "      <td>16.000000</td>\n",
       "      <td>248.770000</td>\n",
       "    </tr>\n",
       "    <tr>\n",
       "      <th>max</th>\n",
       "      <td>20.000000</td>\n",
       "      <td>494.080000</td>\n",
       "    </tr>\n",
       "  </tbody>\n",
       "</table>\n",
       "</div>"
      ],
      "text/plain": [
       "       Boxes Shipped  Amount ($)\n",
       "count     333.000000  333.000000\n",
       "mean       10.474474  176.964835\n",
       "std         5.955415  119.058556\n",
       "min         1.000000    8.090000\n",
       "25%         5.000000   75.990000\n",
       "50%        11.000000  156.920000\n",
       "75%        16.000000  248.770000\n",
       "max        20.000000  494.080000"
      ]
     },
     "execution_count": 14,
     "metadata": {},
     "output_type": "execute_result"
    }
   ],
   "source": [
    "df.describe()"
   ]
  },
  {
   "cell_type": "markdown",
   "id": "043f4fe3-88f3-439f-8452-e6b121083348",
   "metadata": {},
   "source": [
    "#### STATISTICAL ANALYSIS OF CATEGORICAL DATA"
   ]
  },
  {
   "cell_type": "code",
   "execution_count": 20,
   "id": "5eba1a06-13f1-4aad-9736-dfbe30e6d5a4",
   "metadata": {},
   "outputs": [
    {
     "data": {
      "text/html": [
       "<div>\n",
       "<style scoped>\n",
       "    .dataframe tbody tr th:only-of-type {\n",
       "        vertical-align: middle;\n",
       "    }\n",
       "\n",
       "    .dataframe tbody tr th {\n",
       "        vertical-align: top;\n",
       "    }\n",
       "\n",
       "    .dataframe thead th {\n",
       "        text-align: right;\n",
       "    }\n",
       "</style>\n",
       "<table border=\"1\" class=\"dataframe\">\n",
       "  <thead>\n",
       "    <tr style=\"text-align: right;\">\n",
       "      <th></th>\n",
       "      <th>Date</th>\n",
       "      <th>Product</th>\n",
       "      <th>Sales Person</th>\n",
       "      <th>Country</th>\n",
       "    </tr>\n",
       "  </thead>\n",
       "  <tbody>\n",
       "    <tr>\n",
       "      <th>count</th>\n",
       "      <td>333</td>\n",
       "      <td>333</td>\n",
       "      <td>333</td>\n",
       "      <td>333</td>\n",
       "    </tr>\n",
       "    <tr>\n",
       "      <th>unique</th>\n",
       "      <td>179</td>\n",
       "      <td>7</td>\n",
       "      <td>7</td>\n",
       "      <td>5</td>\n",
       "    </tr>\n",
       "    <tr>\n",
       "      <th>top</th>\n",
       "      <td>5/23/2022</td>\n",
       "      <td>Antiseptic Cream</td>\n",
       "      <td>Rajesh Patel</td>\n",
       "      <td>USA</td>\n",
       "    </tr>\n",
       "    <tr>\n",
       "      <th>freq</th>\n",
       "      <td>6</td>\n",
       "      <td>56</td>\n",
       "      <td>55</td>\n",
       "      <td>77</td>\n",
       "    </tr>\n",
       "  </tbody>\n",
       "</table>\n",
       "</div>"
      ],
      "text/plain": [
       "             Date           Product  Sales Person Country\n",
       "count         333               333           333     333\n",
       "unique        179                 7             7       5\n",
       "top     5/23/2022  Antiseptic Cream  Rajesh Patel     USA\n",
       "freq            6                56            55      77"
      ]
     },
     "execution_count": 20,
     "metadata": {},
     "output_type": "execute_result"
    }
   ],
   "source": [
    "df.describe(include=object)"
   ]
  },
  {
   "cell_type": "markdown",
   "id": "6fdae440-4c95-41e6-aaca-61d5d50ed2c2",
   "metadata": {},
   "source": [
    "#### FINDING UNIQUE VALUES OF TOTAL COLUMN"
   ]
  },
  {
   "cell_type": "code",
   "execution_count": 24,
   "id": "49db4e1a-2056-4492-844a-ae38063b771e",
   "metadata": {},
   "outputs": [
    {
     "data": {
      "text/plain": [
       "Date             179\n",
       "Product            7\n",
       "Sales Person       7\n",
       "Boxes Shipped     20\n",
       "Amount ($)       332\n",
       "Country            5\n",
       "dtype: int64"
      ]
     },
     "execution_count": 24,
     "metadata": {},
     "output_type": "execute_result"
    }
   ],
   "source": [
    "df.nunique()"
   ]
  },
  {
   "cell_type": "markdown",
   "id": "75f2809f-1813-4053-92e5-31723bab72b6",
   "metadata": {},
   "source": [
    "#### LISTING OUT UNIQUE VALUE PER COLUMNS"
   ]
  },
  {
   "cell_type": "code",
   "execution_count": 26,
   "id": "3bd39072-8755-45fb-b544-01b7bff53348",
   "metadata": {},
   "outputs": [
    {
     "data": {
      "text/plain": [
       "array(['Pain Relief Tablets', 'Antiseptic Cream', 'Cough Syrup',\n",
       "       'Digestive Enzyme', 'Eye Drops', 'Nasal Spray', 'Allergy Pills'],\n",
       "      dtype=object)"
      ]
     },
     "execution_count": 26,
     "metadata": {},
     "output_type": "execute_result"
    }
   ],
   "source": [
    "df['Product'].unique()"
   ]
  },
  {
   "cell_type": "code",
   "execution_count": 27,
   "id": "2fbba581-d430-41ae-998a-b9c218e67f1e",
   "metadata": {},
   "outputs": [
    {
     "data": {
      "text/plain": [
       "array(['Divya Mehra', 'Nikhil Batra', 'Ritika Shah', 'Priya Singh',\n",
       "       'Sneha Iyer', 'Rajesh Patel', 'Aman Verma'], dtype=object)"
      ]
     },
     "execution_count": 27,
     "metadata": {},
     "output_type": "execute_result"
    }
   ],
   "source": [
    "df['Sales Person'].unique()"
   ]
  },
  {
   "cell_type": "code",
   "execution_count": 28,
   "id": "749038af-afba-4a93-8220-279f76d818b3",
   "metadata": {},
   "outputs": [
    {
     "data": {
      "text/plain": [
       "array(['Australia', 'Canada', 'UK', 'USA', 'India'], dtype=object)"
      ]
     },
     "execution_count": 28,
     "metadata": {},
     "output_type": "execute_result"
    }
   ],
   "source": [
    "df['Country'].unique()"
   ]
  },
  {
   "cell_type": "markdown",
   "id": "c87742a4-18e5-47c2-a190-b3d508fb4f19",
   "metadata": {},
   "source": [
    "#### STANDARDIZING DATE FORMAT FROM STRING FORMAT"
   ]
  },
  {
   "cell_type": "code",
   "execution_count": 30,
   "id": "1f7d34a9-d50b-436d-880a-11473bb62b3a",
   "metadata": {},
   "outputs": [],
   "source": [
    "df['Date'] = pd.to_datetime(df['Date'],errors='coerce')"
   ]
  },
  {
   "cell_type": "markdown",
   "id": "cf47d7ca-3ca1-4a1f-96eb-ae28139d6030",
   "metadata": {},
   "source": [
    "#### STANDARDIZING BOXES SHIPPED FROM STRING TO NUMERIC FORMAT"
   ]
  },
  {
   "cell_type": "code",
   "execution_count": 31,
   "id": "daa5012b-c98d-4430-9bca-86ad83aa52f8",
   "metadata": {},
   "outputs": [],
   "source": [
    "df['Boxes Shipped'] = pd.to_numeric(df['Boxes Shipped'],errors='coerce')"
   ]
  },
  {
   "cell_type": "markdown",
   "id": "eafc64dc-9c39-43e3-85eb-86ef2881af12",
   "metadata": {},
   "source": [
    "#### STANDARDIZING AMOUNT FORMAT FROM STRING TO NUMERIC DATA"
   ]
  },
  {
   "cell_type": "code",
   "execution_count": 32,
   "id": "5896595e-c465-479d-b70e-d2a8d900de18",
   "metadata": {},
   "outputs": [],
   "source": [
    "df['Amount ($)'] = pd.to_numeric(df['Amount ($)'], errors='coerce')"
   ]
  },
  {
   "cell_type": "markdown",
   "id": "0d6d592a-a9a3-4be3-8306-79cd0fd40172",
   "metadata": {},
   "source": [
    "#### CREATING DERIVED COLUMNS - TOTAL REVENUE"
   ]
  },
  {
   "cell_type": "code",
   "execution_count": 42,
   "id": "794acee3-1abd-46a4-aedb-591006b1ab80",
   "metadata": {},
   "outputs": [],
   "source": [
    "df['Total Revenue'] = df['Boxes Shipped'] * df['Amount ($)']"
   ]
  },
  {
   "cell_type": "code",
   "execution_count": 43,
   "id": "949a50a4-77f0-4403-a49d-a6220debca66",
   "metadata": {},
   "outputs": [
    {
     "data": {
      "text/html": [
       "<div>\n",
       "<style scoped>\n",
       "    .dataframe tbody tr th:only-of-type {\n",
       "        vertical-align: middle;\n",
       "    }\n",
       "\n",
       "    .dataframe tbody tr th {\n",
       "        vertical-align: top;\n",
       "    }\n",
       "\n",
       "    .dataframe thead th {\n",
       "        text-align: right;\n",
       "    }\n",
       "</style>\n",
       "<table border=\"1\" class=\"dataframe\">\n",
       "  <thead>\n",
       "    <tr style=\"text-align: right;\">\n",
       "      <th></th>\n",
       "      <th>Date</th>\n",
       "      <th>Product</th>\n",
       "      <th>Sales Person</th>\n",
       "      <th>Boxes Shipped</th>\n",
       "      <th>Amount ($)</th>\n",
       "      <th>Country</th>\n",
       "      <th>Profit</th>\n",
       "      <th>Total Revenue</th>\n",
       "    </tr>\n",
       "  </thead>\n",
       "  <tbody>\n",
       "    <tr>\n",
       "      <th>0</th>\n",
       "      <td>2022-02-06</td>\n",
       "      <td>Pain Relief Tablets</td>\n",
       "      <td>Divya Mehra</td>\n",
       "      <td>7</td>\n",
       "      <td>67.43</td>\n",
       "      <td>Australia</td>\n",
       "      <td>472.01</td>\n",
       "      <td>472.01</td>\n",
       "    </tr>\n",
       "  </tbody>\n",
       "</table>\n",
       "</div>"
      ],
      "text/plain": [
       "        Date              Product Sales Person  Boxes Shipped  Amount ($)  \\\n",
       "0 2022-02-06  Pain Relief Tablets  Divya Mehra              7       67.43   \n",
       "\n",
       "     Country  Profit  Total Revenue  \n",
       "0  Australia  472.01         472.01  "
      ]
     },
     "execution_count": 43,
     "metadata": {},
     "output_type": "execute_result"
    }
   ],
   "source": [
    "df.head(1)"
   ]
  },
  {
   "cell_type": "markdown",
   "id": "00589666-c299-4eef-bbd0-aa9b0b6e2b96",
   "metadata": {},
   "source": [
    "#### REMOVING PROFIT COLUMN"
   ]
  },
  {
   "cell_type": "code",
   "execution_count": 49,
   "id": "6f67af1a-bc01-4e50-a9c2-3e196f75967f",
   "metadata": {},
   "outputs": [],
   "source": [
    "df.drop(columns = 'Profit', inplace = True)"
   ]
  },
  {
   "cell_type": "code",
   "execution_count": 50,
   "id": "4e2923ee-aacc-4d02-ba07-5b692837057a",
   "metadata": {},
   "outputs": [
    {
     "data": {
      "text/html": [
       "<div>\n",
       "<style scoped>\n",
       "    .dataframe tbody tr th:only-of-type {\n",
       "        vertical-align: middle;\n",
       "    }\n",
       "\n",
       "    .dataframe tbody tr th {\n",
       "        vertical-align: top;\n",
       "    }\n",
       "\n",
       "    .dataframe thead th {\n",
       "        text-align: right;\n",
       "    }\n",
       "</style>\n",
       "<table border=\"1\" class=\"dataframe\">\n",
       "  <thead>\n",
       "    <tr style=\"text-align: right;\">\n",
       "      <th></th>\n",
       "      <th>Date</th>\n",
       "      <th>Product</th>\n",
       "      <th>Sales Person</th>\n",
       "      <th>Boxes Shipped</th>\n",
       "      <th>Amount ($)</th>\n",
       "      <th>Country</th>\n",
       "      <th>Total Revenue</th>\n",
       "    </tr>\n",
       "  </thead>\n",
       "  <tbody>\n",
       "    <tr>\n",
       "      <th>0</th>\n",
       "      <td>2022-02-06</td>\n",
       "      <td>Pain Relief Tablets</td>\n",
       "      <td>Divya Mehra</td>\n",
       "      <td>7</td>\n",
       "      <td>67.43</td>\n",
       "      <td>Australia</td>\n",
       "      <td>472.01</td>\n",
       "    </tr>\n",
       "    <tr>\n",
       "      <th>1</th>\n",
       "      <td>2022-02-05</td>\n",
       "      <td>Antiseptic Cream</td>\n",
       "      <td>Nikhil Batra</td>\n",
       "      <td>18</td>\n",
       "      <td>421.46</td>\n",
       "      <td>Canada</td>\n",
       "      <td>7586.28</td>\n",
       "    </tr>\n",
       "    <tr>\n",
       "      <th>2</th>\n",
       "      <td>2022-02-19</td>\n",
       "      <td>Cough Syrup</td>\n",
       "      <td>Ritika Shah</td>\n",
       "      <td>2</td>\n",
       "      <td>48.25</td>\n",
       "      <td>UK</td>\n",
       "      <td>96.50</td>\n",
       "    </tr>\n",
       "    <tr>\n",
       "      <th>3</th>\n",
       "      <td>2022-03-28</td>\n",
       "      <td>Pain Relief Tablets</td>\n",
       "      <td>Nikhil Batra</td>\n",
       "      <td>5</td>\n",
       "      <td>59.89</td>\n",
       "      <td>UK</td>\n",
       "      <td>299.45</td>\n",
       "    </tr>\n",
       "    <tr>\n",
       "      <th>4</th>\n",
       "      <td>2022-01-17</td>\n",
       "      <td>Digestive Enzyme</td>\n",
       "      <td>Ritika Shah</td>\n",
       "      <td>8</td>\n",
       "      <td>147.73</td>\n",
       "      <td>USA</td>\n",
       "      <td>1181.84</td>\n",
       "    </tr>\n",
       "  </tbody>\n",
       "</table>\n",
       "</div>"
      ],
      "text/plain": [
       "        Date              Product  Sales Person  Boxes Shipped  Amount ($)  \\\n",
       "0 2022-02-06  Pain Relief Tablets   Divya Mehra              7       67.43   \n",
       "1 2022-02-05     Antiseptic Cream  Nikhil Batra             18      421.46   \n",
       "2 2022-02-19          Cough Syrup   Ritika Shah              2       48.25   \n",
       "3 2022-03-28  Pain Relief Tablets  Nikhil Batra              5       59.89   \n",
       "4 2022-01-17     Digestive Enzyme   Ritika Shah              8      147.73   \n",
       "\n",
       "     Country  Total Revenue  \n",
       "0  Australia         472.01  \n",
       "1     Canada        7586.28  \n",
       "2         UK          96.50  \n",
       "3         UK         299.45  \n",
       "4        USA        1181.84  "
      ]
     },
     "execution_count": 50,
     "metadata": {},
     "output_type": "execute_result"
    }
   ],
   "source": [
    "df.head()"
   ]
  },
  {
   "cell_type": "code",
   "execution_count": null,
   "id": "da4ebcf5-38ae-473f-8d99-f4b38ab1acf3",
   "metadata": {},
   "outputs": [],
   "source": [
    "df"
   ]
  },
  {
   "cell_type": "markdown",
   "id": "2b59c844-cd8c-47e3-8b25-3ded99f059eb",
   "metadata": {},
   "source": [
    "### EXPLORATORY DATA ANALYSIS AND DATA VIZUALIZATION"
   ]
  },
  {
   "cell_type": "markdown",
   "id": "9f4ad78a-ef06-490e-9de5-81bf57f3302b",
   "metadata": {},
   "source": [
    "#### STATISTICAL SUMMARY OF NUMERIC DATA"
   ]
  },
  {
   "cell_type": "code",
   "execution_count": 52,
   "id": "464eb322-0bc8-45fc-af5a-b4027cce2341",
   "metadata": {},
   "outputs": [
    {
     "data": {
      "text/html": [
       "<div>\n",
       "<style scoped>\n",
       "    .dataframe tbody tr th:only-of-type {\n",
       "        vertical-align: middle;\n",
       "    }\n",
       "\n",
       "    .dataframe tbody tr th {\n",
       "        vertical-align: top;\n",
       "    }\n",
       "\n",
       "    .dataframe thead th {\n",
       "        text-align: right;\n",
       "    }\n",
       "</style>\n",
       "<table border=\"1\" class=\"dataframe\">\n",
       "  <thead>\n",
       "    <tr style=\"text-align: right;\">\n",
       "      <th></th>\n",
       "      <th>Date</th>\n",
       "      <th>Boxes Shipped</th>\n",
       "      <th>Amount ($)</th>\n",
       "      <th>Total Revenue</th>\n",
       "    </tr>\n",
       "  </thead>\n",
       "  <tbody>\n",
       "    <tr>\n",
       "      <th>count</th>\n",
       "      <td>333</td>\n",
       "      <td>333.000000</td>\n",
       "      <td>333.000000</td>\n",
       "      <td>333.000000</td>\n",
       "    </tr>\n",
       "    <tr>\n",
       "      <th>mean</th>\n",
       "      <td>2022-05-07 19:31:53.513513472</td>\n",
       "      <td>10.474474</td>\n",
       "      <td>176.964835</td>\n",
       "      <td>2457.048859</td>\n",
       "    </tr>\n",
       "    <tr>\n",
       "      <th>min</th>\n",
       "      <td>2022-01-02 00:00:00</td>\n",
       "      <td>1.000000</td>\n",
       "      <td>8.090000</td>\n",
       "      <td>8.090000</td>\n",
       "    </tr>\n",
       "    <tr>\n",
       "      <th>25%</th>\n",
       "      <td>2022-03-09 00:00:00</td>\n",
       "      <td>5.000000</td>\n",
       "      <td>75.990000</td>\n",
       "      <td>397.300000</td>\n",
       "    </tr>\n",
       "    <tr>\n",
       "      <th>50%</th>\n",
       "      <td>2022-05-17 00:00:00</td>\n",
       "      <td>11.000000</td>\n",
       "      <td>156.920000</td>\n",
       "      <td>1679.040000</td>\n",
       "    </tr>\n",
       "    <tr>\n",
       "      <th>75%</th>\n",
       "      <td>2022-07-06 00:00:00</td>\n",
       "      <td>16.000000</td>\n",
       "      <td>248.770000</td>\n",
       "      <td>4026.450000</td>\n",
       "    </tr>\n",
       "    <tr>\n",
       "      <th>max</th>\n",
       "      <td>2022-08-31 00:00:00</td>\n",
       "      <td>20.000000</td>\n",
       "      <td>494.080000</td>\n",
       "      <td>9881.600000</td>\n",
       "    </tr>\n",
       "    <tr>\n",
       "      <th>std</th>\n",
       "      <td>NaN</td>\n",
       "      <td>5.955415</td>\n",
       "      <td>119.058556</td>\n",
       "      <td>2405.885021</td>\n",
       "    </tr>\n",
       "  </tbody>\n",
       "</table>\n",
       "</div>"
      ],
      "text/plain": [
       "                                Date  Boxes Shipped  Amount ($)  Total Revenue\n",
       "count                            333     333.000000  333.000000     333.000000\n",
       "mean   2022-05-07 19:31:53.513513472      10.474474  176.964835    2457.048859\n",
       "min              2022-01-02 00:00:00       1.000000    8.090000       8.090000\n",
       "25%              2022-03-09 00:00:00       5.000000   75.990000     397.300000\n",
       "50%              2022-05-17 00:00:00      11.000000  156.920000    1679.040000\n",
       "75%              2022-07-06 00:00:00      16.000000  248.770000    4026.450000\n",
       "max              2022-08-31 00:00:00      20.000000  494.080000    9881.600000\n",
       "std                              NaN       5.955415  119.058556    2405.885021"
      ]
     },
     "execution_count": 52,
     "metadata": {},
     "output_type": "execute_result"
    }
   ],
   "source": [
    "df.describe()"
   ]
  },
  {
   "cell_type": "markdown",
   "id": "21173f45-3418-4797-ac27-9f5ac2f0da90",
   "metadata": {},
   "source": [
    "#### CALCULATING TOTAL NUMBER OF BOXES SHIPPED"
   ]
  },
  {
   "cell_type": "code",
   "execution_count": 53,
   "id": "8f3dd69f-c22a-41fb-a659-450c320e9b22",
   "metadata": {},
   "outputs": [
    {
     "data": {
      "text/plain": [
       "3488"
      ]
     },
     "execution_count": 53,
     "metadata": {},
     "output_type": "execute_result"
    }
   ],
   "source": [
    "df['Boxes Shipped'].sum()"
   ]
  },
  {
   "cell_type": "markdown",
   "id": "0c84288e-345b-4895-b709-4e49eeb4bc33",
   "metadata": {},
   "source": [
    "#### CALCULATING TOTAL AMOUNT"
   ]
  },
  {
   "cell_type": "code",
   "execution_count": 54,
   "id": "30db9668-bec5-4391-be70-8906ba9becc0",
   "metadata": {},
   "outputs": [
    {
     "data": {
      "text/plain": [
       "58929.29"
      ]
     },
     "execution_count": 54,
     "metadata": {},
     "output_type": "execute_result"
    }
   ],
   "source": [
    "df['Amount ($)'].sum()"
   ]
  },
  {
   "cell_type": "markdown",
   "id": "70d049bf-a516-4d1f-b83b-8b1346eeda8f",
   "metadata": {},
   "source": [
    "#### CALCULATING TOTAL REVENUE"
   ]
  },
  {
   "cell_type": "code",
   "execution_count": 55,
   "id": "be3995ee-0d41-4e76-8573-7e5a329af78a",
   "metadata": {},
   "outputs": [
    {
     "data": {
      "text/plain": [
       "818197.27"
      ]
     },
     "execution_count": 55,
     "metadata": {},
     "output_type": "execute_result"
    }
   ],
   "source": [
    "df['Total Revenue'].sum()"
   ]
  },
  {
   "cell_type": "markdown",
   "id": "93357e53-59a7-4c09-b977-bbc340211344",
   "metadata": {},
   "source": [
    "#### MEDIAN VALUE OF BOXES SHIPPED"
   ]
  },
  {
   "cell_type": "code",
   "execution_count": 66,
   "id": "5d947ad8-d836-4f30-b7ed-dfe7a8f6d15f",
   "metadata": {},
   "outputs": [
    {
     "data": {
      "text/plain": [
       "11.0"
      ]
     },
     "execution_count": 66,
     "metadata": {},
     "output_type": "execute_result"
    }
   ],
   "source": [
    "df['Boxes Shipped'].median()"
   ]
  },
  {
   "cell_type": "markdown",
   "id": "d61156c0-6087-4991-8e2d-71ef5b16dbb1",
   "metadata": {},
   "source": [
    "#### MEDIAN VALUE OF AMOUNT"
   ]
  },
  {
   "cell_type": "code",
   "execution_count": 64,
   "id": "18615593-8927-4966-8a7e-780d46ee20ed",
   "metadata": {},
   "outputs": [
    {
     "data": {
      "text/plain": [
       "156.92"
      ]
     },
     "execution_count": 64,
     "metadata": {},
     "output_type": "execute_result"
    }
   ],
   "source": [
    "df['Amount ($)'].median()"
   ]
  },
  {
   "cell_type": "markdown",
   "id": "8620c4aa-4aa7-4efa-9643-df86036c5563",
   "metadata": {},
   "source": [
    "#### MEDIAN VALUE OF TOTAL REVENUE"
   ]
  },
  {
   "cell_type": "code",
   "execution_count": 65,
   "id": "9738088b-b2d2-4182-8a8c-2d4fb86a5b71",
   "metadata": {},
   "outputs": [
    {
     "data": {
      "text/plain": [
       "1679.04"
      ]
     },
     "execution_count": 65,
     "metadata": {},
     "output_type": "execute_result"
    }
   ],
   "source": [
    "df['Total Revenue'].median()"
   ]
  },
  {
   "cell_type": "markdown",
   "id": "5aefae35-4b23-4e5b-8bd9-ef9903ead275",
   "metadata": {},
   "source": [
    "#### MODE OF BOXES SHIPPED"
   ]
  },
  {
   "cell_type": "code",
   "execution_count": 67,
   "id": "4dfaeb78-d18e-46ba-9f74-4cf9b4ba7369",
   "metadata": {},
   "outputs": [
    {
     "data": {
      "text/plain": [
       "0    18\n",
       "Name: Boxes Shipped, dtype: int64"
      ]
     },
     "execution_count": 67,
     "metadata": {},
     "output_type": "execute_result"
    }
   ],
   "source": [
    "df['Boxes Shipped'].mode()"
   ]
  },
  {
   "cell_type": "markdown",
   "id": "1b11812c-7843-427b-a776-6749d3bd727a",
   "metadata": {},
   "source": [
    "#### MODE OF AMOUNT"
   ]
  },
  {
   "cell_type": "code",
   "execution_count": 68,
   "id": "9272e1ed-f79d-4c62-8b4f-715448fa4831",
   "metadata": {},
   "outputs": [
    {
     "data": {
      "text/plain": [
       "0    59.89\n",
       "Name: Amount ($), dtype: float64"
      ]
     },
     "execution_count": 68,
     "metadata": {},
     "output_type": "execute_result"
    }
   ],
   "source": [
    "df['Amount ($)'].mode()"
   ]
  },
  {
   "cell_type": "markdown",
   "id": "0a3ec15d-3b4c-42cf-bf7f-54f1ee97a624",
   "metadata": {},
   "source": [
    "#### MODE OF TOTAL REVENUE"
   ]
  },
  {
   "cell_type": "code",
   "execution_count": 71,
   "id": "89edffb0-bc2a-453b-b306-8944bf15517d",
   "metadata": {},
   "outputs": [
    {
     "data": {
      "text/plain": [
       "0         8.09\n",
       "1         8.51\n",
       "2         8.77\n",
       "3         9.40\n",
       "4         9.98\n",
       "        ...   \n",
       "328    9018.35\n",
       "329    9415.60\n",
       "330    9598.60\n",
       "331    9738.80\n",
       "332    9881.60\n",
       "Name: Total Revenue, Length: 333, dtype: float64"
      ]
     },
     "execution_count": 71,
     "metadata": {},
     "output_type": "execute_result"
    }
   ],
   "source": [
    "df['Total Revenue'].mode()"
   ]
  },
  {
   "cell_type": "markdown",
   "id": "85507150-cd3e-4294-b875-d3ebed7c4538",
   "metadata": {},
   "source": [
    "#### TOTAL VARIENCE OF TOTAL REVENUE"
   ]
  },
  {
   "cell_type": "code",
   "execution_count": 72,
   "id": "a3af6b19-cb68-41a4-bef9-3a4d050cba5c",
   "metadata": {},
   "outputs": [
    {
     "data": {
      "text/plain": [
       "5788282.733790266"
      ]
     },
     "execution_count": 72,
     "metadata": {},
     "output_type": "execute_result"
    }
   ],
   "source": [
    "df['Total Revenue'].var()"
   ]
  },
  {
   "cell_type": "markdown",
   "id": "b2389da8-7452-424a-9458-dadd90813761",
   "metadata": {},
   "source": [
    "#### TOTAL VARIENCE OF AMOUNT"
   ]
  },
  {
   "cell_type": "code",
   "execution_count": 74,
   "id": "1576ac20-8996-418a-b15c-4351ed718404",
   "metadata": {},
   "outputs": [
    {
     "data": {
      "text/plain": [
       "14174.93971781903"
      ]
     },
     "execution_count": 74,
     "metadata": {},
     "output_type": "execute_result"
    }
   ],
   "source": [
    "df['Amount ($)'].var()"
   ]
  },
  {
   "cell_type": "markdown",
   "id": "34d12333-31f7-4eb4-9f85-5ac935969ca1",
   "metadata": {},
   "source": [
    "#### TOTAL VARIENCE OF BOXES SHIPPED"
   ]
  },
  {
   "cell_type": "code",
   "execution_count": 75,
   "id": "4e9104a0-f4df-447c-8983-19d75ce6dce7",
   "metadata": {},
   "outputs": [
    {
     "data": {
      "text/plain": [
       "35.46696696696698"
      ]
     },
     "execution_count": 75,
     "metadata": {},
     "output_type": "execute_result"
    }
   ],
   "source": [
    "df['Boxes Shipped'].var()"
   ]
  },
  {
   "cell_type": "markdown",
   "id": "928736ec-7cc2-41d9-85a3-61c5104e4ee5",
   "metadata": {},
   "source": [
    "#### RANGE OF TOTAL REVENUE"
   ]
  },
  {
   "cell_type": "code",
   "execution_count": 76,
   "id": "f68fe02c-a482-4859-823c-d42bdb8afd47",
   "metadata": {},
   "outputs": [
    {
     "data": {
      "text/plain": [
       "9873.51"
      ]
     },
     "execution_count": 76,
     "metadata": {},
     "output_type": "execute_result"
    }
   ],
   "source": [
    "df['Total Revenue'].max() - df['Total Revenue'].min()"
   ]
  },
  {
   "cell_type": "markdown",
   "id": "eaac06a8-8bc1-4200-9f9e-049f1c7275df",
   "metadata": {},
   "source": [
    "#### RANGE OF AMOUNT"
   ]
  },
  {
   "cell_type": "code",
   "execution_count": 78,
   "id": "1cf46e2d-8a9d-4886-a661-05b81897b634",
   "metadata": {},
   "outputs": [
    {
     "data": {
      "text/plain": [
       "485.99"
      ]
     },
     "execution_count": 78,
     "metadata": {},
     "output_type": "execute_result"
    }
   ],
   "source": [
    "df['Amount ($)'].max() - df['Amount ($)'].min()"
   ]
  },
  {
   "cell_type": "markdown",
   "id": "e9e47306-4d45-4c1b-b937-f3b949fa48ea",
   "metadata": {},
   "source": [
    "#### RANGE OF BOXES SHIPPED"
   ]
  },
  {
   "cell_type": "code",
   "execution_count": 79,
   "id": "df112937-5985-4937-9758-581c23f7158a",
   "metadata": {},
   "outputs": [
    {
     "data": {
      "text/plain": [
       "19"
      ]
     },
     "execution_count": 79,
     "metadata": {},
     "output_type": "execute_result"
    }
   ],
   "source": [
    "df['Boxes Shipped'].max() - df['Boxes Shipped'].min()"
   ]
  },
  {
   "cell_type": "markdown",
   "id": "2ac66dbb-8a27-41ab-a570-98b66cf3ff7c",
   "metadata": {},
   "source": [
    "#### IMPORTING CLEANED DATA TO CSV"
   ]
  },
  {
   "cell_type": "code",
   "execution_count": 148,
   "id": "6add822f-66ab-4f0e-8c9f-afbee4220322",
   "metadata": {},
   "outputs": [],
   "source": [
    "df.to_csv('cleaned_pharmacy_otc_sales_data.csv')"
   ]
  },
  {
   "cell_type": "markdown",
   "id": "2e586f50-3789-4956-8614-7387a1c9d5e2",
   "metadata": {},
   "source": []
  },
  {
   "cell_type": "markdown",
   "id": "69a8d91b-4d97-4f46-ad1f-94995b5a40d2",
   "metadata": {},
   "source": []
  }
 ],
 "metadata": {
  "kernelspec": {
   "display_name": "Python 3 (ipykernel)",
   "language": "python",
   "name": "python3"
  },
  "language_info": {
   "codemirror_mode": {
    "name": "ipython",
    "version": 3
   },
   "file_extension": ".py",
   "mimetype": "text/x-python",
   "name": "python",
   "nbconvert_exporter": "python",
   "pygments_lexer": "ipython3",
   "version": "3.12.7"
  }
 },
 "nbformat": 4,
 "nbformat_minor": 5
}
